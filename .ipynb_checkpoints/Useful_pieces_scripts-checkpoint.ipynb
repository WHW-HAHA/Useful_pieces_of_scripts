{
 "cells": [
  {
   "cell_type": "markdown",
   "metadata": {},
   "source": [
    "# Useful pieces scripts"
   ]
  },
  {
   "cell_type": "markdown",
   "metadata": {},
   "source": [
    "## 0. Python basics"
   ]
  },
  {
   "cell_type": "code",
   "execution_count": 12,
   "metadata": {},
   "outputs": [],
   "source": [
    "# coding standard"
   ]
  },
  {
   "cell_type": "markdown",
   "metadata": {},
   "source": [
    "## 1. About path "
   ]
  },
  {
   "cell_type": "code",
   "execution_count": 1,
   "metadata": {},
   "outputs": [
    {
     "name": "stderr",
     "output_type": "stream",
     "text": [
      "c:\\users\\907932\\appdata\\local\\programs\\python\\python37\\lib\\site-packages\\ipykernel\\parentpoller.py:116: UserWarning: Parent poll failed.  If the frontend dies,\n",
      "                the kernel may be left running.  Please let us know\n",
      "                about your system (bitness, Python, etc.) at\n",
      "                ipython-dev@scipy.org\n",
      "  ipython-dev@scipy.org\"\"\")\n"
     ]
    }
   ],
   "source": [
    "# Import necessary libraries\n",
    "import os\n",
    "import sys\n",
    "import glob"
   ]
  },
  {
   "cell_type": "code",
   "execution_count": 4,
   "metadata": {},
   "outputs": [
    {
     "name": "stdout",
     "output_type": "stream",
     "text": [
      "Current directory (folder):  C:\\Users\\907932\\Documents\\GitHub\\Useful_pieces_of_scripts\n",
      "Parent path (folder):  C:\\Users\\907932\\Documents\\GitHub\n",
      "Grandparent pathd (folder):  C:\\Users\\907932\\Documents\n",
      "File path (folder):  C:\\Users\\907932\\Documents\\GitHub\\Useful_pieces_of_scripts\\Files\n"
     ]
    }
   ],
   "source": [
    "# To get the cruuent working path\n",
    "current_path = os.getcwd()\n",
    "print('Current directory (folder): ', current_path)\n",
    "\n",
    "# To get the higher level working directory\n",
    "parent_path = os.path.abspath(os.path.dirname(current_path))\n",
    "print('Parent path (folder): ',parent_path)\n",
    "\n",
    "# To get the 2 level higher than current working directory\n",
    "grandparent_path = os.path.abspath(os.path.dirname(os.path.dirname(current_path)))\n",
    "print('Grandparent pathd (folder): ', grandparent_path)\n",
    "\n",
    "# To get the path of another folder in the same working diretory\n",
    "# Only need the name of the path (folder), no needs of \\\\ // \n",
    "file_path = os.path.join(current_path, 'Files') \n",
    "print('File path (folder): ', file_path)"
   ]
  },
  {
   "cell_type": "code",
   "execution_count": 5,
   "metadata": {},
   "outputs": [
    {
     "name": "stdout",
     "output_type": "stream",
     "text": [
      "Current path (fold):  C:\\Users\\907932\\Documents\\GitHub\\Useful_pieces_of_scripts\n",
      "New working directory (folder):  C:\\Users\\907932\\Documents\\GitHub\n"
     ]
    }
   ],
   "source": [
    "# To change working diretory\n",
    "print('Current path (fold): ', current_path)\n",
    "os.chdir(parent_path)\n",
    "print('New working directory (folder): ', os.getcwd())"
   ]
  },
  {
   "cell_type": "code",
   "execution_count": 6,
   "metadata": {},
   "outputs": [
    {
     "name": "stdout",
     "output_type": "stream",
     "text": [
      "C:\\Users\\907932\\Documents\\GitHub\\Useful_pieces_of_scripts\\README.md\n",
      "C:\\Users\\907932\\Documents\\GitHub\\Useful_pieces_of_scripts\\Useful_pieces_scripts.ipynb\n"
     ]
    }
   ],
   "source": [
    "# to get all the files in current working folder\n",
    "file_list = glob.glob(''.join([current_path, r'\\*.*']))\n",
    "for file in file_list:\n",
    "    print(file)"
   ]
  },
  {
   "cell_type": "markdown",
   "metadata": {},
   "source": [
    "## 2. About reading files"
   ]
  },
  {
   "cell_type": "code",
   "execution_count": 7,
   "metadata": {},
   "outputs": [],
   "source": [
    "# Import necessary libraries\n",
    "import pandas\n",
    "import numpy\n",
    "import xml"
   ]
  },
  {
   "cell_type": "markdown",
   "metadata": {},
   "source": [
    "### 2.1 txt file"
   ]
  },
  {
   "cell_type": "code",
   "execution_count": 15,
   "metadata": {},
   "outputs": [
    {
     "name": "stdout",
     "output_type": "stream",
     "text": [
      "All content:  IDENT     BG9348-101-100LH2        - LH2\n",
      "IDENT     lpp(m):109.00 B(m): 19.00   T(m):  4.50\n",
      "IDENT    \n",
      "The first line:  IDENT     BG9348-101-100LH2        - LH2\n",
      "\n",
      "The second line:  IDENT     lpp(m):109.00 B(m): 19.00   T(m):  4.50\n",
      "\n",
      "The first line in all the rest lines:  IDENT     kxx(m): 5.700 kyy(m):27.250 kzz(m):27.250\n",
      "\n"
     ]
    }
   ],
   "source": [
    "# file path\n",
    "File_path = ''.join([file_path, r'\\txt_sparse_template.txt'])\n",
    "# read files\n",
    "with open(File_path, 'r') as file_read:\n",
    "    all = file_read.read()\n",
    "    file_read.close()\n",
    "    \n",
    "with open(File_path, 'r') as file_read:\n",
    "    # the command follows the curser\n",
    "    the_first_line = file_read.readline()\n",
    "    the_second_line = file_read.readline()\n",
    "    all_lines = file_read.readlines()\n",
    "    file_read.close()\n",
    "\n",
    "    print('All content: ',all[:100])\n",
    "    print('The first line: ', the_first_line)\n",
    "    print('The second line: ', the_second_line)\n",
    "    print('The first line in all the rest lines: ', all_lines[0])\n",
    "    "
   ]
  },
  {
   "cell_type": "markdown",
   "metadata": {},
   "source": [
    "### 2.2 csv file "
   ]
  },
  {
   "cell_type": "markdown",
   "metadata": {},
   "source": [
    "### 2.3 Excel sheet"
   ]
  },
  {
   "cell_type": "markdown",
   "metadata": {},
   "source": [
    "### 2.4 xml file"
   ]
  },
  {
   "cell_type": "markdown",
   "metadata": {},
   "source": [
    "### 2.5 json file"
   ]
  },
  {
   "cell_type": "code",
   "execution_count": null,
   "metadata": {},
   "outputs": [],
   "source": []
  },
  {
   "cell_type": "markdown",
   "metadata": {},
   "source": [
    "## 3. About making plots"
   ]
  },
  {
   "cell_type": "code",
   "execution_count": 6,
   "metadata": {},
   "outputs": [],
   "source": [
    "# Import necessary libraries\n",
    "import matplotlib.pyplot as plt"
   ]
  },
  {
   "cell_type": "markdown",
   "metadata": {},
   "source": [
    "## 4. About records"
   ]
  },
  {
   "cell_type": "code",
   "execution_count": 7,
   "metadata": {},
   "outputs": [],
   "source": [
    "# Import necessary libraries\n",
    "import logging\n",
    "import time"
   ]
  },
  {
   "cell_type": "markdown",
   "metadata": {},
   "source": [
    "## 5.Tricks of using Pandas"
   ]
  },
  {
   "cell_type": "code",
   "execution_count": 10,
   "metadata": {},
   "outputs": [],
   "source": [
    "# Import necessary librairies\n",
    "import pandas"
   ]
  },
  {
   "cell_type": "markdown",
   "metadata": {},
   "source": [
    "## 6.Tricks of using numpy "
   ]
  },
  {
   "cell_type": "code",
   "execution_count": 11,
   "metadata": {},
   "outputs": [],
   "source": [
    "# Import necessary libraries\n",
    "import numpy"
   ]
  },
  {
   "cell_type": "code",
   "execution_count": null,
   "metadata": {},
   "outputs": [],
   "source": []
  }
 ],
 "metadata": {
  "kernelspec": {
   "display_name": "Python 3",
   "language": "python",
   "name": "python3"
  },
  "language_info": {
   "codemirror_mode": {
    "name": "ipython",
    "version": 3
   },
   "file_extension": ".py",
   "mimetype": "text/x-python",
   "name": "python",
   "nbconvert_exporter": "python",
   "pygments_lexer": "ipython3",
   "version": "3.7.1"
  }
 },
 "nbformat": 4,
 "nbformat_minor": 4
}
