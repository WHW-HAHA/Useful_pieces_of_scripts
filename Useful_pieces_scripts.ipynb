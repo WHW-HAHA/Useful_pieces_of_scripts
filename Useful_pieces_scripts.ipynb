{
 "cells": [
  {
   "cell_type": "markdown",
   "metadata": {},
   "source": [
    "# Useful pieces scripts"
   ]
  },
  {
   "cell_type": "markdown",
   "metadata": {},
   "source": [
    "## 0. Python basics"
   ]
  },
  {
   "cell_type": "code",
   "execution_count": 12,
   "metadata": {},
   "outputs": [],
   "source": [
    "# coding standard"
   ]
  },
  {
   "cell_type": "markdown",
   "metadata": {},
   "source": [
    "## 1. About path "
   ]
  },
  {
   "cell_type": "code",
   "execution_count": 2,
   "metadata": {},
   "outputs": [],
   "source": [
    "# Import necessary libraries\n",
    "import os\n",
    "import sys\n",
    "import glob"
   ]
  },
  {
   "cell_type": "code",
   "execution_count": 20,
   "metadata": {},
   "outputs": [
    {
     "name": "stdout",
     "output_type": "stream",
     "text": [
      "Current directory (folder):  C:\\Users\\907932\\Documents\\GitHub\\Useful_pieces_of_scripts\n",
      "Parent path (folder):  C:\\Users\\907932\\Documents\\GitHub\n",
      "Grandparent pathd (folder):  C:\\Users\\907932\\Documents\n",
      "File path (folder):  C:\\Users\\907932\\Documents\\GitHub\\Files\n"
     ]
    }
   ],
   "source": [
    "# To get the cruuent working path\n",
    "current_path = os.getcwd()\n",
    "print('Current directory (folder): ', current_path)\n",
    "\n",
    "# To get the higher level working directory\n",
    "parent_path = os.path.abspath(os.path.dirname(current_path))\n",
    "print('Parent path (folder): ',parent_path)\n",
    "\n",
    "# To get the 2 level higher than current working directory\n",
    "grandparent_path = os.path.abspath(os.path.dirname(os.path.dirname(current_path)))\n",
    "print('Grandparent pathd (folder): ', grandparent_path)\n",
    "\n",
    "# To get the path of another folder in the same working diretory\n",
    "# Only need the name of the path (folder), no needs of \\\\ // \n",
    "file_path = os.path.join(parent_path, 'Files') \n",
    "print('File path (folder): ', file_path)"
   ]
  },
  {
   "cell_type": "code",
   "execution_count": 24,
   "metadata": {},
   "outputs": [
    {
     "name": "stdout",
     "output_type": "stream",
     "text": [
      "Current path(fold):  C:\\Users\\907932\\Documents\\GitHub\\Useful_pieces_of_scripts\n",
      "New working directory(folder):  C:\\Users\\907932\\Documents\\GitHub\n"
     ]
    }
   ],
   "source": [
    "# To change working diretory\n",
    "print('Current path(fold): ', current_path)\n",
    "os.chdir(parent_path)\n",
    "print('New working directory(folder): ', os.getcwd())"
   ]
  },
  {
   "cell_type": "code",
   "execution_count": 15,
   "metadata": {},
   "outputs": [
    {
     "name": "stdout",
     "output_type": "stream",
     "text": [
      "['C:\\\\Users\\\\907932\\\\Documents\\\\GitHub\\\\Useful_pieces_of_scripts\\\\README.md', 'C:\\\\Users\\\\907932\\\\Documents\\\\GitHub\\\\Useful_pieces_of_scripts\\\\Useful_pieces_scripts.ipynb']\n"
     ]
    }
   ],
   "source": [
    "# to get all the files in current working folder\n",
    "file_list = glob.glob(''.join([current_path, r'\\*.*']))\n",
    "print(file_list)\n"
   ]
  },
  {
   "cell_type": "markdown",
   "metadata": {},
   "source": [
    "## 2. About reading files"
   ]
  },
  {
   "cell_type": "code",
   "execution_count": 4,
   "metadata": {},
   "outputs": [],
   "source": [
    "# Import necessary libraries\n",
    "import pandas\n",
    "import numpy\n",
    "import xml"
   ]
  },
  {
   "cell_type": "markdown",
   "metadata": {},
   "source": [
    "## 3. About making plots"
   ]
  },
  {
   "cell_type": "code",
   "execution_count": 6,
   "metadata": {},
   "outputs": [],
   "source": [
    "# Import necessary libraries\n",
    "import matplotlib.pyplot as plt"
   ]
  },
  {
   "cell_type": "markdown",
   "metadata": {},
   "source": [
    "## 4. About records"
   ]
  },
  {
   "cell_type": "code",
   "execution_count": 7,
   "metadata": {},
   "outputs": [],
   "source": [
    "# Import necessary libraries\n",
    "import logging\n",
    "import time"
   ]
  },
  {
   "cell_type": "markdown",
   "metadata": {},
   "source": [
    "## 5.Tricks of using Pandas"
   ]
  },
  {
   "cell_type": "code",
   "execution_count": 10,
   "metadata": {},
   "outputs": [],
   "source": [
    "# Import necessary librairies\n",
    "import pandas"
   ]
  },
  {
   "cell_type": "markdown",
   "metadata": {},
   "source": [
    "## 6.Tricks of using numpy "
   ]
  },
  {
   "cell_type": "code",
   "execution_count": 11,
   "metadata": {},
   "outputs": [],
   "source": [
    "# Import necessary libraries\n",
    "import numpy"
   ]
  },
  {
   "cell_type": "code",
   "execution_count": null,
   "metadata": {},
   "outputs": [],
   "source": []
  }
 ],
 "metadata": {
  "kernelspec": {
   "display_name": "Python 3",
   "language": "python",
   "name": "python3"
  },
  "language_info": {
   "codemirror_mode": {
    "name": "ipython",
    "version": 3
   },
   "file_extension": ".py",
   "mimetype": "text/x-python",
   "name": "python",
   "nbconvert_exporter": "python",
   "pygments_lexer": "ipython3",
   "version": "3.7.1"
  }
 },
 "nbformat": 4,
 "nbformat_minor": 4
}
