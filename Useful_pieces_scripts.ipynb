{
 "cells": [
  {
   "cell_type": "markdown",
   "metadata": {},
   "source": [
    "# Useful pieces scripts"
   ]
  },
  {
   "cell_type": "markdown",
   "metadata": {},
   "source": [
    "## 0. Python basics"
   ]
  },
  {
   "cell_type": "code",
   "execution_count": 12,
   "metadata": {},
   "outputs": [],
   "source": [
    "# coding standard"
   ]
  },
  {
   "cell_type": "markdown",
   "metadata": {},
   "source": [
    "## 1. About path "
   ]
  },
  {
   "cell_type": "code",
   "execution_count": 5,
   "metadata": {},
   "outputs": [],
   "source": [
    "# Import necessary libraries\n",
    "import os\n",
    "import sys\n",
    "import glob"
   ]
  },
  {
   "cell_type": "code",
   "execution_count": 6,
   "metadata": {},
   "outputs": [
    {
     "name": "stdout",
     "output_type": "stream",
     "text": [
      "Current directory (folder):  C:\\Users\\907932\\Documents\\GitHub\\Useful_pieces_of_scripts\n",
      "Parent path (folder):  C:\\Users\\907932\\Documents\\GitHub\n",
      "Grandparent pathd (folder):  C:\\Users\\907932\\Documents\n",
      "File path (folder):  C:\\Users\\907932\\Documents\\GitHub\\Useful_pieces_of_scripts\\Files\n"
     ]
    }
   ],
   "source": [
    "# To get the cruuent working path\n",
    "current_path = os.getcwd()\n",
    "print('Current directory (folder): ', current_path)\n",
    "\n",
    "# To get the higher level working directory\n",
    "parent_path = os.path.abspath(os.path.dirname(current_path))\n",
    "print('Parent path (folder): ',parent_path)\n",
    "\n",
    "# To get the 2 level higher than current working directory\n",
    "grandparent_path = os.path.abspath(os.path.dirname(os.path.dirname(current_path)))\n",
    "print('Grandparent pathd (folder): ', grandparent_path)\n",
    "\n",
    "# To get the path of another folder in the same working diretory\n",
    "# Only need the name of the path (folder), no needs of \\\\ // \n",
    "file_path = os.path.join(current_path, 'Files') \n",
    "print('File path (folder): ', file_path)"
   ]
  },
  {
   "cell_type": "code",
   "execution_count": 7,
   "metadata": {},
   "outputs": [
    {
     "name": "stdout",
     "output_type": "stream",
     "text": [
      "Current path (fold):  C:\\Users\\907932\\Documents\\GitHub\\Useful_pieces_of_scripts\n",
      "New working directory (folder):  C:\\Users\\907932\\Documents\\GitHub\n"
     ]
    }
   ],
   "source": [
    "# To change working diretory\n",
    "print('Current path (fold): ', current_path)\n",
    "os.chdir(parent_path)\n",
    "print('New working directory (folder): ', os.getcwd())"
   ]
  },
  {
   "cell_type": "code",
   "execution_count": 8,
   "metadata": {},
   "outputs": [
    {
     "name": "stdout",
     "output_type": "stream",
     "text": [
      "C:\\Users\\907932\\Documents\\GitHub\\Useful_pieces_of_scripts\\README.md\n",
      "C:\\Users\\907932\\Documents\\GitHub\\Useful_pieces_of_scripts\\Useful_pieces_scripts.ipynb\n"
     ]
    }
   ],
   "source": [
    "# to get all the files in current working folder\n",
    "file_list = glob.glob(''.join([current_path, r'\\*.*']))\n",
    "for file in file_list:\n",
    "    print(file)"
   ]
  },
  {
   "cell_type": "markdown",
   "metadata": {},
   "source": [
    "## 2. About reading files"
   ]
  },
  {
   "cell_type": "code",
   "execution_count": 9,
   "metadata": {},
   "outputs": [],
   "source": [
    "# Import necessary libraries\n",
    "import pandas\n",
    "import numpy\n",
    "import xml"
   ]
  },
  {
   "cell_type": "markdown",
   "metadata": {},
   "source": [
    "### 2.1 txt file"
   ]
  },
  {
   "cell_type": "code",
   "execution_count": 10,
   "metadata": {},
   "outputs": [
    {
     "name": "stdout",
     "output_type": "stream",
     "text": [
      "All content:  IDENT     BG9348-101-100LH2        - LH2\n",
      "IDENT     lpp(m):109.00 B(m): 19.00   T(m):  4.50\n",
      "IDENT    \n",
      "The first line:  IDENT     BG9348-101-100LH2        - LH2\n",
      "\n",
      "The second line:  IDENT     lpp(m):109.00 B(m): 19.00   T(m):  4.50\n",
      "\n",
      "The first line in all the rest lines:  IDENT     kxx(m): 5.700 kyy(m):27.250 kzz(m):27.250\n",
      "\n"
     ]
    }
   ],
   "source": [
    "# file path\n",
    "File_path = ''.join([file_path, r'\\txt_sparse_template.txt'])\n",
    "# read files\n",
    "with open(File_path, 'r') as file_read:\n",
    "    all = file_read.read()\n",
    "    file_read.close()\n",
    "    \n",
    "with open(File_path, 'r') as file_read:\n",
    "    # the command follows the curser\n",
    "    the_first_line = file_read.readline()\n",
    "    the_second_line = file_read.readline()\n",
    "    all_lines = file_read.readlines()\n",
    "    file_read.close()\n",
    "\n",
    "    print('All content: ',all[:100])\n",
    "    print('The first line: ', the_first_line)\n",
    "    print('The second line: ', the_second_line)\n",
    "    print('The first line in all the rest lines: ', all_lines[0])\n",
    "    "
   ]
  },
  {
   "cell_type": "markdown",
   "metadata": {},
   "source": [
    "### 2.2 csv file "
   ]
  },
  {
   "cell_type": "markdown",
   "metadata": {},
   "source": [
    "### 2.3 Excel sheet"
   ]
  },
  {
   "cell_type": "markdown",
   "metadata": {},
   "source": [
    "### 2.4 xml file"
   ]
  },
  {
   "cell_type": "markdown",
   "metadata": {},
   "source": [
    "### 2.5 json file"
   ]
  },
  {
   "cell_type": "code",
   "execution_count": null,
   "metadata": {},
   "outputs": [],
   "source": []
  },
  {
   "cell_type": "markdown",
   "metadata": {},
   "source": [
    "## 3. About making plots"
   ]
  },
  {
   "cell_type": "code",
   "execution_count": 11,
   "metadata": {},
   "outputs": [],
   "source": [
    "# Import necessary libraries\n",
    "import matplotlib.pyplot as plt"
   ]
  },
  {
   "cell_type": "markdown",
   "metadata": {},
   "source": [
    "## 4. About records"
   ]
  },
  {
   "cell_type": "code",
   "execution_count": 12,
   "metadata": {},
   "outputs": [],
   "source": [
    "# Import necessary libraries\n",
    "import logging\n",
    "import time"
   ]
  },
  {
   "cell_type": "markdown",
   "metadata": {},
   "source": [
    "## 5.Tricks of using Pandas"
   ]
  },
  {
   "cell_type": "code",
   "execution_count": 22,
   "metadata": {},
   "outputs": [],
   "source": [
    "# Import necessary librairies\n",
    "import pandas as pd\n"
   ]
  },
  {
   "cell_type": "markdown",
   "metadata": {},
   "source": [
    "### Case 1"
   ]
  },
  {
   "cell_type": "code",
   "execution_count": 19,
   "metadata": {},
   "outputs": [
    {
     "name": "stdout",
     "output_type": "stream",
     "text": [
      "['2015-4-9-0', '2015-4-23-9', '2015-6-16-6', '2015-7-12-15', '2015-8-16-0', '2015-9-6-15', '2015-11-14-15', '2015-11-29-6', '2016-1-7-18', '2016-6-12-6']\n"
     ]
    },
    {
     "name": "stderr",
     "output_type": "stream",
     "text": [
      "c:\\users\\907932\\appdata\\local\\programs\\python\\python37\\lib\\site-packages\\ipykernel_launcher.py:9: FutureWarning: read_table is deprecated, use read_csv instead.\n",
      "  if __name__ == '__main__':\n"
     ]
    }
   ],
   "source": [
    "# read csv file with different separators\n",
    "# To get the path of another folder in the same working diretory\n",
    "# Only need the name of the path (folder), no needs of \\\\ // \n",
    "incidents_path = ''.join([file_path, r'\\Incidents.txt'])\n",
    "sea_path  = ''.join([file_path, r'\\SeaP3747.txt'])\n",
    "swell_path = ''.join([file_path, r'\\SwellP3747.txt'])\n",
    "\n",
    "# incident txt file is separated by ';'\n",
    "incident_df = pd.read_table(incidents_path, delimiter=';')\n",
    "time_df = incident_df['time'] # get the time column\n",
    "# the str format of time is 'DD-MM-YYYY-HH'\n",
    "expand_time = time_df.str.split('-', expand = True) # split the time into 4 columns\n",
    "# first astype(int) then astype(str) to remove the 0 in 01\n",
    "day_df = expand_time[0].astype(int)\n",
    "day_df = day_df.astype(str) # remove the 0 in double digits integer\n",
    "month_df = expand_time[1].astype(int)\n",
    "month_df = month_df.astype(str)\n",
    "year_df = expand_time[2]\n",
    "hour_df = expand_time[3].astype(int)\n",
    "div, rem = divmod(hour_df, 3) # calculate the mods and remains, to adapt the hour to a number as 3*n\n",
    "hour_df = hour_df - rem\n",
    "hour_df = hour_df.astype(str)\n",
    "\n",
    "# join the time in specified format\n",
    "format_time_series = []\n",
    "# format the time in right format\n",
    "for yyyy, MM, DD, HH in zip(year_df, month_df, day_df, hour_df):\n",
    "    formated_time = ''.join([yyyy, '-', MM, '-', DD, '-', HH])\n",
    "    format_time_series.append(formated_time)\n",
    "print(format_time_series[:10])"
   ]
  },
  {
   "cell_type": "code",
   "execution_count": 23,
   "metadata": {},
   "outputs": [
    {
     "name": "stderr",
     "output_type": "stream",
     "text": [
      "c:\\users\\907932\\appdata\\local\\programs\\python\\python37\\lib\\site-packages\\ipykernel_launcher.py:1: FutureWarning: read_table is deprecated, use read_csv instead, passing sep='\\t'.\n",
      "  \"\"\"Entry point for launching an IPython kernel.\n"
     ]
    },
    {
     "name": "stdout",
     "output_type": "stream",
     "text": [
      "Index\n",
      "105129     2015-1-1-0\n",
      "105130     2015-1-1-3\n",
      "105131     2015-1-1-6\n",
      "105132     2015-1-1-9\n",
      "105133    2015-1-1-12\n",
      "105134    2015-1-1-15\n",
      "105135    2015-1-1-18\n",
      "105136    2015-1-1-21\n",
      "105137     2015-1-2-0\n",
      "105138     2015-1-2-3\n",
      "Name: Formatted_time, dtype: object\n"
     ]
    }
   ],
   "source": [
    "sea_df = pd.read_table(sea_path, index_col = 0)\n",
    "#  get the columns of time\n",
    "time_sea_str_df = sea_df[['YYYY', 'MM', 'DD', 'HH']].astype(str)\n",
    "# join the time in special format\n",
    "time_sea_df_combined= time_sea_str_df.apply(lambda x: '-'.join(x), axis = 1 )\n",
    "sea_df.insert(0, 'Formatted_time', time_sea_df_combined)\n",
    "print(sea_df['Formatted_time'][:10])"
   ]
  },
  {
   "cell_type": "code",
   "execution_count": 31,
   "metadata": {},
   "outputs": [
    {
     "ename": "IndexError",
     "evalue": "positional indexers are out-of-bounds",
     "output_type": "error",
     "traceback": [
      "\u001b[1;31m---------------------------------------------------------------------------\u001b[0m",
      "\u001b[1;31mIndexError\u001b[0m                                Traceback (most recent call last)",
      "\u001b[1;32m<ipython-input-31-7d1854616f9c>\u001b[0m in \u001b[0;36m<module>\u001b[1;34m()\u001b[0m\n\u001b[0;32m     10\u001b[0m \u001b[1;31m#         print(time)\u001b[0m\u001b[1;33m\u001b[0m\u001b[1;33m\u001b[0m\u001b[1;33m\u001b[0m\u001b[0m\n\u001b[0;32m     11\u001b[0m \u001b[1;33m\u001b[0m\u001b[0m\n\u001b[1;32m---> 12\u001b[1;33m \u001b[0mcorreleated_df\u001b[0m \u001b[1;33m=\u001b[0m \u001b[0msea_df\u001b[0m\u001b[1;33m.\u001b[0m\u001b[0miloc\u001b[0m\u001b[1;33m[\u001b[0m\u001b[0mindex_list\u001b[0m\u001b[1;33m,\u001b[0m \u001b[1;33m:\u001b[0m\u001b[1;33m]\u001b[0m \u001b[1;31m# by index\u001b[0m\u001b[1;33m\u001b[0m\u001b[1;33m\u001b[0m\u001b[0m\n\u001b[0m\u001b[0;32m     13\u001b[0m \u001b[0mcorreleated_df\u001b[0m \u001b[1;33m=\u001b[0m \u001b[0msea_df\u001b[0m\u001b[1;33m.\u001b[0m\u001b[0miloc\u001b[0m\u001b[1;33m[\u001b[0m\u001b[0mindex_list\u001b[0m\u001b[1;33m,\u001b[0m \u001b[1;33m:\u001b[0m\u001b[1;33m]\u001b[0m \u001b[1;31m# by position\u001b[0m\u001b[1;33m\u001b[0m\u001b[1;33m\u001b[0m\u001b[0m\n\u001b[0;32m     14\u001b[0m \u001b[0mcorreleated_df\u001b[0m \u001b[1;33m=\u001b[0m \u001b[0msea_df\u001b[0m\u001b[1;33m.\u001b[0m\u001b[0mloc\u001b[0m\u001b[1;33m[\u001b[0m\u001b[0mindex_list\u001b[0m\u001b[1;33m,\u001b[0m \u001b[1;33m:\u001b[0m\u001b[1;33m]\u001b[0m \u001b[1;31m# by name\u001b[0m\u001b[1;33m\u001b[0m\u001b[1;33m\u001b[0m\u001b[0m\n",
      "\u001b[1;32mc:\\users\\907932\\appdata\\local\\programs\\python\\python37\\lib\\site-packages\\pandas\\core\\indexing.py\u001b[0m in \u001b[0;36m__getitem__\u001b[1;34m(self, key)\u001b[0m\n\u001b[0;32m   1492\u001b[0m             \u001b[1;32mexcept\u001b[0m \u001b[1;33m(\u001b[0m\u001b[0mKeyError\u001b[0m\u001b[1;33m,\u001b[0m \u001b[0mIndexError\u001b[0m\u001b[1;33m,\u001b[0m \u001b[0mAttributeError\u001b[0m\u001b[1;33m)\u001b[0m\u001b[1;33m:\u001b[0m\u001b[1;33m\u001b[0m\u001b[1;33m\u001b[0m\u001b[0m\n\u001b[0;32m   1493\u001b[0m                 \u001b[1;32mpass\u001b[0m\u001b[1;33m\u001b[0m\u001b[1;33m\u001b[0m\u001b[0m\n\u001b[1;32m-> 1494\u001b[1;33m             \u001b[1;32mreturn\u001b[0m \u001b[0mself\u001b[0m\u001b[1;33m.\u001b[0m\u001b[0m_getitem_tuple\u001b[0m\u001b[1;33m(\u001b[0m\u001b[0mkey\u001b[0m\u001b[1;33m)\u001b[0m\u001b[1;33m\u001b[0m\u001b[1;33m\u001b[0m\u001b[0m\n\u001b[0m\u001b[0;32m   1495\u001b[0m         \u001b[1;32melse\u001b[0m\u001b[1;33m:\u001b[0m\u001b[1;33m\u001b[0m\u001b[1;33m\u001b[0m\u001b[0m\n\u001b[0;32m   1496\u001b[0m             \u001b[1;31m# we by definition only have the 0th axis\u001b[0m\u001b[1;33m\u001b[0m\u001b[1;33m\u001b[0m\u001b[1;33m\u001b[0m\u001b[0m\n",
      "\u001b[1;32mc:\\users\\907932\\appdata\\local\\programs\\python\\python37\\lib\\site-packages\\pandas\\core\\indexing.py\u001b[0m in \u001b[0;36m_getitem_tuple\u001b[1;34m(self, tup)\u001b[0m\n\u001b[0;32m   2141\u001b[0m     \u001b[1;32mdef\u001b[0m \u001b[0m_getitem_tuple\u001b[0m\u001b[1;33m(\u001b[0m\u001b[0mself\u001b[0m\u001b[1;33m,\u001b[0m \u001b[0mtup\u001b[0m\u001b[1;33m)\u001b[0m\u001b[1;33m:\u001b[0m\u001b[1;33m\u001b[0m\u001b[1;33m\u001b[0m\u001b[0m\n\u001b[0;32m   2142\u001b[0m \u001b[1;33m\u001b[0m\u001b[0m\n\u001b[1;32m-> 2143\u001b[1;33m         \u001b[0mself\u001b[0m\u001b[1;33m.\u001b[0m\u001b[0m_has_valid_tuple\u001b[0m\u001b[1;33m(\u001b[0m\u001b[0mtup\u001b[0m\u001b[1;33m)\u001b[0m\u001b[1;33m\u001b[0m\u001b[1;33m\u001b[0m\u001b[0m\n\u001b[0m\u001b[0;32m   2144\u001b[0m         \u001b[1;32mtry\u001b[0m\u001b[1;33m:\u001b[0m\u001b[1;33m\u001b[0m\u001b[1;33m\u001b[0m\u001b[0m\n\u001b[0;32m   2145\u001b[0m             \u001b[1;32mreturn\u001b[0m \u001b[0mself\u001b[0m\u001b[1;33m.\u001b[0m\u001b[0m_getitem_lowerdim\u001b[0m\u001b[1;33m(\u001b[0m\u001b[0mtup\u001b[0m\u001b[1;33m)\u001b[0m\u001b[1;33m\u001b[0m\u001b[1;33m\u001b[0m\u001b[0m\n",
      "\u001b[1;32mc:\\users\\907932\\appdata\\local\\programs\\python\\python37\\lib\\site-packages\\pandas\\core\\indexing.py\u001b[0m in \u001b[0;36m_has_valid_tuple\u001b[1;34m(self, key)\u001b[0m\n\u001b[0;32m    221\u001b[0m                 \u001b[1;32mraise\u001b[0m \u001b[0mIndexingError\u001b[0m\u001b[1;33m(\u001b[0m\u001b[1;34m'Too many indexers'\u001b[0m\u001b[1;33m)\u001b[0m\u001b[1;33m\u001b[0m\u001b[1;33m\u001b[0m\u001b[0m\n\u001b[0;32m    222\u001b[0m             \u001b[1;32mtry\u001b[0m\u001b[1;33m:\u001b[0m\u001b[1;33m\u001b[0m\u001b[1;33m\u001b[0m\u001b[0m\n\u001b[1;32m--> 223\u001b[1;33m                 \u001b[0mself\u001b[0m\u001b[1;33m.\u001b[0m\u001b[0m_validate_key\u001b[0m\u001b[1;33m(\u001b[0m\u001b[0mk\u001b[0m\u001b[1;33m,\u001b[0m \u001b[0mi\u001b[0m\u001b[1;33m)\u001b[0m\u001b[1;33m\u001b[0m\u001b[1;33m\u001b[0m\u001b[0m\n\u001b[0m\u001b[0;32m    224\u001b[0m             \u001b[1;32mexcept\u001b[0m \u001b[0mValueError\u001b[0m\u001b[1;33m:\u001b[0m\u001b[1;33m\u001b[0m\u001b[1;33m\u001b[0m\u001b[0m\n\u001b[0;32m    225\u001b[0m                 raise ValueError(\"Location based indexing can only have \"\n",
      "\u001b[1;32mc:\\users\\907932\\appdata\\local\\programs\\python\\python37\\lib\\site-packages\\pandas\\core\\indexing.py\u001b[0m in \u001b[0;36m_validate_key\u001b[1;34m(self, key, axis)\u001b[0m\n\u001b[0;32m   2079\u001b[0m \u001b[1;33m\u001b[0m\u001b[0m\n\u001b[0;32m   2080\u001b[0m             \u001b[1;32mif\u001b[0m \u001b[0mlen\u001b[0m\u001b[1;33m(\u001b[0m\u001b[0marr\u001b[0m\u001b[1;33m)\u001b[0m \u001b[1;32mand\u001b[0m \u001b[1;33m(\u001b[0m\u001b[0marr\u001b[0m\u001b[1;33m.\u001b[0m\u001b[0mmax\u001b[0m\u001b[1;33m(\u001b[0m\u001b[1;33m)\u001b[0m \u001b[1;33m>=\u001b[0m \u001b[0mlen_axis\u001b[0m \u001b[1;32mor\u001b[0m \u001b[0marr\u001b[0m\u001b[1;33m.\u001b[0m\u001b[0mmin\u001b[0m\u001b[1;33m(\u001b[0m\u001b[1;33m)\u001b[0m \u001b[1;33m<\u001b[0m \u001b[1;33m-\u001b[0m\u001b[0mlen_axis\u001b[0m\u001b[1;33m)\u001b[0m\u001b[1;33m:\u001b[0m\u001b[1;33m\u001b[0m\u001b[1;33m\u001b[0m\u001b[0m\n\u001b[1;32m-> 2081\u001b[1;33m                 \u001b[1;32mraise\u001b[0m \u001b[0mIndexError\u001b[0m\u001b[1;33m(\u001b[0m\u001b[1;34m\"positional indexers are out-of-bounds\"\u001b[0m\u001b[1;33m)\u001b[0m\u001b[1;33m\u001b[0m\u001b[1;33m\u001b[0m\u001b[0m\n\u001b[0m\u001b[0;32m   2082\u001b[0m         \u001b[1;32melse\u001b[0m\u001b[1;33m:\u001b[0m\u001b[1;33m\u001b[0m\u001b[1;33m\u001b[0m\u001b[0m\n\u001b[0;32m   2083\u001b[0m             raise ValueError(\"Can only index by location with \"\n",
      "\u001b[1;31mIndexError\u001b[0m: positional indexers are out-of-bounds"
     ]
    }
   ],
   "source": [
    "# to correlate the incidents with wave data, with foreign key, time\n",
    "i = 0\n",
    "index_list = []\n",
    "for time in format_time_series:\n",
    "    try:\n",
    "        index = sea_df[sea_df['Formatted_time']==time].index\n",
    "        index_list.append(index.values[0])\n",
    "    except:\n",
    "        i += 1\n",
    "#         print(time)\n",
    "        \n",
    "correleated_df = sea_df.iloc[index_list, :] # by index\n",
    "correleated_df = sea_df.iloc[index_list, :] # by position\n",
    "correleated_df = sea_df.loc[index_list, :] # by name"
   ]
  },
  {
   "cell_type": "markdown",
   "metadata": {},
   "source": [
    "## 6.Tricks of using numpy "
   ]
  },
  {
   "cell_type": "code",
   "execution_count": 11,
   "metadata": {},
   "outputs": [],
   "source": [
    "# Import necessary libraries\n",
    "import numpy"
   ]
  },
  {
   "cell_type": "code",
   "execution_count": null,
   "metadata": {},
   "outputs": [],
   "source": []
  }
 ],
 "metadata": {
  "kernelspec": {
   "display_name": "Python 3",
   "language": "python",
   "name": "python3"
  },
  "language_info": {
   "codemirror_mode": {
    "name": "ipython",
    "version": 3
   },
   "file_extension": ".py",
   "mimetype": "text/x-python",
   "name": "python",
   "nbconvert_exporter": "python",
   "pygments_lexer": "ipython3",
   "version": "3.7.1"
  }
 },
 "nbformat": 4,
 "nbformat_minor": 4
}
